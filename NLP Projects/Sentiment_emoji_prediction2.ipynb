{
  "nbformat": 4,
  "nbformat_minor": 0,
  "metadata": {
    "colab": {
      "name": "Sentiment emoji prediction.ipynb",
      "provenance": [],
      "mount_file_id": "1MKCOPqBJaIEhH73ltu1nY6un5PhXxqAz",
      "authorship_tag": "ABX9TyMRb95T5VGdlIZKXO7g8fhL",
      "include_colab_link": true
    },
    "kernelspec": {
      "name": "python3",
      "display_name": "Python 3"
    }
  },
  "cells": [
    {
      "cell_type": "markdown",
      "metadata": {
        "id": "view-in-github",
        "colab_type": "text"
      },
      "source": [
        "<a href=\"https://colab.research.google.com/github/mraniketr/DeepLearningProjects/blob/master/Sentiment_emoji_prediction2.ipynb\" target=\"_parent\"><img src=\"https://colab.research.google.com/assets/colab-badge.svg\" alt=\"Open In Colab\"/></a>"
      ]
    },
    {
      "cell_type": "code",
      "metadata": {
        "id": "oKCk-iSyRguG",
        "colab_type": "code",
        "colab": {
          "base_uri": "https://localhost:8080/",
          "height": 33
        },
        "outputId": "cddbf223-8a8b-4e9c-c59f-f87a72c6df11"
      },
      "source": [
        "import numpy as np\n",
        "!pip install emoji\n",
        "import emoji\n",
        "import matplotlib.pyplot as plt\n",
        "\n",
        "import csv\n",
        "import pandas as pd\n",
        "from sklearn.metrics import confusion_matrix\n",
        "\n",
        "from keras.models import Model\n",
        "from keras.layers import Dense, Input, Dropout, LSTM, Activation\n",
        "from keras.layers.embeddings import Embedding\n",
        "from keras.preprocessing import sequence\n",
        "from keras.initializers import glorot_uniform\n",
        "\n",
        "%matplotlib inline"
      ],
      "execution_count": 4,
      "outputs": [
        {
          "output_type": "stream",
          "text": [
            "Requirement already satisfied: emoji in /usr/local/lib/python3.6/dist-packages (0.5.4)\n"
          ],
          "name": "stdout"
        }
      ]
    },
    {
      "cell_type": "code",
      "metadata": {
        "id": "_JINdKn4RThC",
        "colab_type": "code",
        "colab": {}
      },
      "source": [
        "\n",
        "def read_glove_vecs(glove_file):\n",
        "    with open(glove_file, 'r') as f:\n",
        "        words = set()\n",
        "        word_to_vec_map = {}\n",
        "        for line in f:\n",
        "            line = line.strip().split()\n",
        "            curr_word = line[0]\n",
        "            words.add(curr_word)\n",
        "            word_to_vec_map[curr_word] = np.array(line[1:], dtype=np.float64)\n",
        "        \n",
        "        i = 1\n",
        "        words_to_index = {}\n",
        "        index_to_words = {}\n",
        "        for w in sorted(words):\n",
        "            words_to_index[w] = i\n",
        "            index_to_words[i] = w\n",
        "            i = i + 1\n",
        "    return words_to_index, index_to_words, word_to_vec_map\n",
        "\n",
        "def softmax(x):\n",
        "    e_x = np.exp(x - np.max(x))\n",
        "    return e_x / e_x.sum()\n",
        "\n",
        "\n",
        "def read_csv(filename = '/content/drive/My Drive/COLAB DATA/Emojify/train_emoji.csv'):\n",
        "    phrase = []\n",
        "    emoji = []\n",
        "\n",
        "    with open (filename) as csvDataFile:\n",
        "        csvReader = csv.reader(csvDataFile)\n",
        "\n",
        "        for row in csvReader:\n",
        "            phrase.append(row[0])\n",
        "            emoji.append(row[1])\n",
        "\n",
        "    X = np.asarray(phrase)\n",
        "    Y = np.asarray(emoji, dtype=int)\n",
        "\n",
        "    return X, Y\n",
        "\n",
        "def convert_to_one_hot(Y, C):\n",
        "    Y = np.eye(C)[Y.reshape(-1)]\n",
        "    return Y\n",
        "\n",
        "\n",
        "emoji_dictionary = {\"0\": \"\\u2764\\uFE0F\",    #love\n",
        "                    \"1\": \"\",          #neutral\n",
        "                    \"2\": \":smile:\",     #happy\n",
        "                    \"3\": \":disappointed:\", #sad\n",
        "                    \"4\": \":pouting_face:\"}   #angry\n",
        "\n",
        "def label_to_emoji(label):\n",
        "    return emoji.emojize(emoji_dictionary[str(label)], use_aliases=True)\n",
        "              \n",
        "    \n",
        "def print_predictions(X, pred):\n",
        "    print()\n",
        "    for i in range(X.shape[0]):\n",
        "        print(X[i], label_to_emoji(int(pred[i])))\n",
        "        \n",
        "        \n",
        "def plot_confusion_matrix(y_actu, y_pred, title='Confusion matrix', cmap=plt.cm.gray_r):\n",
        "    \n",
        "    df_confusion = pd.crosstab(y_actu, y_pred.reshape(y_pred.shape[0],), rownames=['Actual'], colnames=['Predicted'], margins=True)\n",
        "    \n",
        "    df_conf_norm = df_confusion / df_confusion.sum(axis=1)\n",
        "    \n",
        "    plt.matshow(df_confusion, cmap=cmap) # imshow\n",
        "    #plt.title(title)\n",
        "    plt.colorbar()\n",
        "    tick_marks = np.arange(len(df_confusion.columns))\n",
        "    plt.xticks(tick_marks, df_confusion.columns, rotation=45)\n",
        "    plt.yticks(tick_marks, df_confusion.index)\n",
        "    #plt.tight_layout()\n",
        "    plt.ylabel(df_confusion.index.name)\n",
        "    plt.xlabel(df_confusion.columns.name)\n",
        "    \n",
        "    \n",
        "def predict(X, Y, W, b, word_to_vec_map):\n",
        "   \n",
        "    m = X.shape[0]\n",
        "    pred = np.zeros((m, 1))\n",
        "    \n",
        "    for j in range(m):                       # Loop over training examples\n",
        "        \n",
        "        words = X[j].lower().split()\n",
        "        \n",
        "        avg = np.zeros((50,))\n",
        "        for w in words:\n",
        "            avg += word_to_vec_map[w]\n",
        "        avg = avg/len(words)\n",
        "\n",
        "        Z = np.dot(W, avg) + b\n",
        "        A = softmax(Z)\n",
        "        pred[j] = np.argmax(A)\n",
        "        \n",
        "    print(\"Accuracy: \"  + str(np.mean((pred[:] == Y.reshape(Y.shape[0],1)[:]))))\n",
        "    \n",
        "    return pred"
      ],
      "execution_count": 0,
      "outputs": []
    },
    {
      "cell_type": "code",
      "metadata": {
        "id": "yZTVNEMLRzSe",
        "colab_type": "code",
        "colab": {}
      },
      "source": [
        "word_to_index, index_to_word, word_to_vec_map = read_glove_vecs('/content/drive/My Drive/COLAB DATA/Emojify/glove.6B.50d.txt')\n"
      ],
      "execution_count": 0,
      "outputs": []
    },
    {
      "cell_type": "code",
      "metadata": {
        "id": "vtjNgxNob6eY",
        "colab_type": "code",
        "colab": {}
      },
      "source": [
        "X_train, Y_train = read_csv('/content/drive/My Drive/COLAB DATA/Emojify/neds.csv')\n",
        "X_test, Y_test = read_csv('/content/drive/My Drive/COLAB DATA/Emojify/tesss.csv')\n"
      ],
      "execution_count": 0,
      "outputs": []
    },
    {
      "cell_type": "code",
      "metadata": {
        "id": "sx8P6EstcZpm",
        "colab_type": "code",
        "colab": {}
      },
      "source": [
        "maxLen = len(max(X_train, key=len).split())"
      ],
      "execution_count": 0,
      "outputs": []
    },
    {
      "cell_type": "code",
      "metadata": {
        "id": "kTK4Enfrcc8h",
        "colab_type": "code",
        "colab": {}
      },
      "source": [
        "\n",
        "\n",
        "def sentences_to_indices(X, word_to_index, max_len):\n",
        "    m = X.shape[0]                         \n",
        "    X_indices = np.zeros((m,max_len))\n",
        "    for i in range(m):                               \n",
        "        sentence_words = [i.lower() for i in X[i].split()]\n",
        "        j = 0\n",
        "        for w in sentence_words:\n",
        "            X_indices[i, j] = word_to_index[w]\n",
        "            j = j+1\n",
        "      \n",
        "    \n",
        "    return X_indices"
      ],
      "execution_count": 0,
      "outputs": []
    },
    {
      "cell_type": "code",
      "metadata": {
        "id": "Fkvg8xF3cepH",
        "colab_type": "code",
        "colab": {}
      },
      "source": [
        "Y_oh_train = convert_to_one_hot(Y_train, C = 5)\n",
        "Y_oh_test = convert_to_one_hot(Y_test, C = 5)"
      ],
      "execution_count": 0,
      "outputs": []
    },
    {
      "cell_type": "code",
      "metadata": {
        "id": "FKaCXIr1cggp",
        "colab_type": "code",
        "colab": {}
      },
      "source": [
        "idx = 50"
      ],
      "execution_count": 0,
      "outputs": []
    },
    {
      "cell_type": "code",
      "metadata": {
        "id": "oUvJKhqnch0A",
        "colab_type": "code",
        "colab": {}
      },
      "source": [
        "\n",
        "def pretrained_embedding_layer(word_to_vec_map, word_to_index):\n",
        "    vocab_len = len(word_to_index) + 1                  \n",
        "    emb_dim = word_to_vec_map[\"cucumber\"].shape[0]      \n",
        "    emb_matrix = np.zeros((vocab_len, emb_dim))\n",
        "    for word, idx in word_to_index.items():\n",
        "        emb_matrix[idx, :] = word_to_vec_map[word]\n",
        "    embedding_layer = Embedding(vocab_len, emb_dim, trainable=False)\n",
        "    embedding_layer.build((None,)) \n",
        "    embedding_layer.set_weights([emb_matrix])\n",
        "    \n",
        "    return embedding_layer"
      ],
      "execution_count": 0,
      "outputs": []
    },
    {
      "cell_type": "code",
      "metadata": {
        "id": "Gvskb3UccjTT",
        "colab_type": "code",
        "colab": {}
      },
      "source": [
        "\n",
        "def Emojify_V2(input_shape, word_to_vec_map, word_to_index):\n",
        "    sentence_indices = Input(input_shape, dtype='int32')\n",
        "    embedding_layer = pretrained_embedding_layer(word_to_vec_map, word_to_index)\n",
        "    embeddings = embedding_layer(sentence_indices)  \n",
        "    X = LSTM(128, return_sequences = True)(embeddings)\n",
        "    X = Dropout(0.5)(X)\n",
        "    X = LSTM(128, return_sequences=False)(X)\n",
        "    X = Dropout(0.5)(X)\n",
        "    X = Dense(5)(X)\n",
        "    X = Activation('softmax')(X)\n",
        "    model = Model(inputs=sentence_indices, outputs=X)\n",
        "    \n",
        "    return model"
      ],
      "execution_count": 0,
      "outputs": []
    },
    {
      "cell_type": "code",
      "metadata": {
        "id": "s56NXbt6cknZ",
        "colab_type": "code",
        "colab": {
          "base_uri": "https://localhost:8080/",
          "height": 418
        },
        "outputId": "69c948d0-ab88-433d-ab6e-f873b3a225d2"
      },
      "source": [
        "model = Emojify_V2((maxLen,), word_to_vec_map, word_to_index)\n",
        "model.summary()"
      ],
      "execution_count": 15,
      "outputs": [
        {
          "output_type": "stream",
          "text": [
            "Model: \"model_1\"\n",
            "_________________________________________________________________\n",
            "Layer (type)                 Output Shape              Param #   \n",
            "=================================================================\n",
            "input_1 (InputLayer)         (None, 11)                0         \n",
            "_________________________________________________________________\n",
            "embedding_1 (Embedding)      (None, 11, 50)            20000050  \n",
            "_________________________________________________________________\n",
            "lstm_1 (LSTM)                (None, 11, 128)           91648     \n",
            "_________________________________________________________________\n",
            "dropout_1 (Dropout)          (None, 11, 128)           0         \n",
            "_________________________________________________________________\n",
            "lstm_2 (LSTM)                (None, 128)               131584    \n",
            "_________________________________________________________________\n",
            "dropout_2 (Dropout)          (None, 128)               0         \n",
            "_________________________________________________________________\n",
            "dense_1 (Dense)              (None, 5)                 645       \n",
            "_________________________________________________________________\n",
            "activation_1 (Activation)    (None, 5)                 0         \n",
            "=================================================================\n",
            "Total params: 20,223,927\n",
            "Trainable params: 223,877\n",
            "Non-trainable params: 20,000,050\n",
            "_________________________________________________________________\n"
          ],
          "name": "stdout"
        }
      ]
    },
    {
      "cell_type": "code",
      "metadata": {
        "id": "MmyLANOmcmsQ",
        "colab_type": "code",
        "colab": {}
      },
      "source": [
        "model.compile(loss='categorical_crossentropy', optimizer='adam', metrics=['accuracy'])"
      ],
      "execution_count": 0,
      "outputs": []
    },
    {
      "cell_type": "code",
      "metadata": {
        "id": "Es4mnlJ0cq4I",
        "colab_type": "code",
        "colab": {}
      },
      "source": [
        "X_train_indices = sentences_to_indices(X_train, word_to_index, maxLen)\n",
        "Y_train_oh = convert_to_one_hot(Y_train, C = 5)"
      ],
      "execution_count": 0,
      "outputs": []
    },
    {
      "cell_type": "code",
      "metadata": {
        "id": "2_ro1Fbycr-A",
        "colab_type": "code",
        "colab": {
          "base_uri": "https://localhost:8080/",
          "height": 1000
        },
        "outputId": "5cff4f61-7067-4396-f064-05a2c1d01bc9"
      },
      "source": [
        "model.fit(X_train_indices, Y_train_oh, epochs = 50, batch_size = 32, shuffle=True)"
      ],
      "execution_count": 22,
      "outputs": [
        {
          "output_type": "stream",
          "text": [
            "Epoch 1/50\n",
            "132/132 [==============================] - 1s 7ms/step - loss: 1.6048 - accuracy: 0.2197\n",
            "Epoch 2/50\n",
            "132/132 [==============================] - 0s 1ms/step - loss: 1.5475 - accuracy: 0.3258\n",
            "Epoch 3/50\n",
            "132/132 [==============================] - 0s 1ms/step - loss: 1.5202 - accuracy: 0.3485\n",
            "Epoch 4/50\n",
            "132/132 [==============================] - 0s 1ms/step - loss: 1.4735 - accuracy: 0.3788\n",
            "Epoch 5/50\n",
            "132/132 [==============================] - 0s 1ms/step - loss: 1.4471 - accuracy: 0.3939\n",
            "Epoch 6/50\n",
            "132/132 [==============================] - 0s 1ms/step - loss: 1.3868 - accuracy: 0.4773\n",
            "Epoch 7/50\n",
            "132/132 [==============================] - 0s 1ms/step - loss: 1.3596 - accuracy: 0.3939\n",
            "Epoch 8/50\n",
            "132/132 [==============================] - 0s 1ms/step - loss: 1.2100 - accuracy: 0.5076\n",
            "Epoch 9/50\n",
            "132/132 [==============================] - 0s 1ms/step - loss: 1.1469 - accuracy: 0.5076\n",
            "Epoch 10/50\n",
            "132/132 [==============================] - 0s 1ms/step - loss: 1.0828 - accuracy: 0.5833\n",
            "Epoch 11/50\n",
            "132/132 [==============================] - 0s 1ms/step - loss: 1.0038 - accuracy: 0.6439\n",
            "Epoch 12/50\n",
            "132/132 [==============================] - 0s 1ms/step - loss: 0.8733 - accuracy: 0.6818\n",
            "Epoch 13/50\n",
            "132/132 [==============================] - 0s 1ms/step - loss: 0.8508 - accuracy: 0.6364\n",
            "Epoch 14/50\n",
            "132/132 [==============================] - 0s 1ms/step - loss: 0.7824 - accuracy: 0.7500\n",
            "Epoch 15/50\n",
            "132/132 [==============================] - 0s 1ms/step - loss: 0.7115 - accuracy: 0.7955\n",
            "Epoch 16/50\n",
            "132/132 [==============================] - 0s 1ms/step - loss: 0.5657 - accuracy: 0.7879\n",
            "Epoch 17/50\n",
            "132/132 [==============================] - 0s 1ms/step - loss: 0.7473 - accuracy: 0.7197\n",
            "Epoch 18/50\n",
            "132/132 [==============================] - 0s 1ms/step - loss: 0.6026 - accuracy: 0.7955\n",
            "Epoch 19/50\n",
            "132/132 [==============================] - 0s 1ms/step - loss: 0.5509 - accuracy: 0.8106\n",
            "Epoch 20/50\n",
            "132/132 [==============================] - 0s 1ms/step - loss: 0.4989 - accuracy: 0.8561\n",
            "Epoch 21/50\n",
            "132/132 [==============================] - 0s 1ms/step - loss: 0.5673 - accuracy: 0.7576\n",
            "Epoch 22/50\n",
            "132/132 [==============================] - 0s 1ms/step - loss: 0.4845 - accuracy: 0.8182\n",
            "Epoch 23/50\n",
            "132/132 [==============================] - 0s 1ms/step - loss: 0.4513 - accuracy: 0.8258\n",
            "Epoch 24/50\n",
            "132/132 [==============================] - 0s 1ms/step - loss: 0.3538 - accuracy: 0.8939\n",
            "Epoch 25/50\n",
            "132/132 [==============================] - 0s 1ms/step - loss: 0.3245 - accuracy: 0.9015\n",
            "Epoch 26/50\n",
            "132/132 [==============================] - 0s 1ms/step - loss: 0.3120 - accuracy: 0.8788\n",
            "Epoch 27/50\n",
            "132/132 [==============================] - 0s 1ms/step - loss: 0.5090 - accuracy: 0.8409\n",
            "Epoch 28/50\n",
            "132/132 [==============================] - 0s 1ms/step - loss: 0.3843 - accuracy: 0.8485\n",
            "Epoch 29/50\n",
            "132/132 [==============================] - 0s 1ms/step - loss: 0.4317 - accuracy: 0.8333\n",
            "Epoch 30/50\n",
            "132/132 [==============================] - 0s 1ms/step - loss: 0.4121 - accuracy: 0.8561\n",
            "Epoch 31/50\n",
            "132/132 [==============================] - 0s 1ms/step - loss: 0.2484 - accuracy: 0.9318\n",
            "Epoch 32/50\n",
            "132/132 [==============================] - 0s 1ms/step - loss: 0.4171 - accuracy: 0.8636\n",
            "Epoch 33/50\n",
            "132/132 [==============================] - 0s 1ms/step - loss: 0.3009 - accuracy: 0.8788\n",
            "Epoch 34/50\n",
            "132/132 [==============================] - 0s 1ms/step - loss: 0.2965 - accuracy: 0.9167\n",
            "Epoch 35/50\n",
            "132/132 [==============================] - 0s 1ms/step - loss: 0.2707 - accuracy: 0.9167\n",
            "Epoch 36/50\n",
            "132/132 [==============================] - 0s 1ms/step - loss: 0.3594 - accuracy: 0.8788\n",
            "Epoch 37/50\n",
            "132/132 [==============================] - 0s 1ms/step - loss: 0.4351 - accuracy: 0.8485\n",
            "Epoch 38/50\n",
            "132/132 [==============================] - 0s 1ms/step - loss: 0.2513 - accuracy: 0.9318\n",
            "Epoch 39/50\n",
            "132/132 [==============================] - 0s 1ms/step - loss: 0.2493 - accuracy: 0.9318\n",
            "Epoch 40/50\n",
            "132/132 [==============================] - 0s 1ms/step - loss: 0.2571 - accuracy: 0.9242\n",
            "Epoch 41/50\n",
            "132/132 [==============================] - 0s 1ms/step - loss: 0.1566 - accuracy: 0.9470\n",
            "Epoch 42/50\n",
            "132/132 [==============================] - 0s 1ms/step - loss: 0.1892 - accuracy: 0.9394\n",
            "Epoch 43/50\n",
            "132/132 [==============================] - 0s 1ms/step - loss: 0.1329 - accuracy: 0.9773\n",
            "Epoch 44/50\n",
            "132/132 [==============================] - 0s 1ms/step - loss: 0.1072 - accuracy: 0.9848\n",
            "Epoch 45/50\n",
            "132/132 [==============================] - 0s 1ms/step - loss: 0.1093 - accuracy: 0.9773\n",
            "Epoch 46/50\n",
            "132/132 [==============================] - 0s 1ms/step - loss: 0.0941 - accuracy: 0.9697\n",
            "Epoch 47/50\n",
            "132/132 [==============================] - 0s 1ms/step - loss: 0.0903 - accuracy: 0.9697\n",
            "Epoch 48/50\n",
            "132/132 [==============================] - 0s 1ms/step - loss: 0.1207 - accuracy: 0.9545\n",
            "Epoch 49/50\n",
            "132/132 [==============================] - 0s 1ms/step - loss: 0.0779 - accuracy: 0.9848\n",
            "Epoch 50/50\n",
            "132/132 [==============================] - 0s 1ms/step - loss: 0.0735 - accuracy: 0.9848\n"
          ],
          "name": "stdout"
        },
        {
          "output_type": "execute_result",
          "data": {
            "text/plain": [
              "<keras.callbacks.callbacks.History at 0x7f12efeb4a58>"
            ]
          },
          "metadata": {
            "tags": []
          },
          "execution_count": 22
        }
      ]
    },
    {
      "cell_type": "code",
      "metadata": {
        "id": "yBPFNqP9dBTx",
        "colab_type": "code",
        "colab": {
          "base_uri": "https://localhost:8080/",
          "height": 100
        },
        "outputId": "6c13b9da-5d8c-45d9-f242-b5d29419f49a"
      },
      "source": [
        "\n",
        "x_test = np.array(['how are you','funny lol','i hate you','not feeling happy','i love python'])\n",
        "for i in range(0,len(x_test)):\n",
        "  X_test_indices = sentences_to_indices(np.array([x_test[i]]), word_to_index, maxLen)\n",
        "  print(x_test[i] +' '+  label_to_emoji(np.argmax(model.predict(X_test_indices))))  \n",
        "\n",
        "#No Emoji - Neutral\n",
        "#Happy,Angry,Sad,Love\n"
      ],
      "execution_count": 31,
      "outputs": [
        {
          "output_type": "stream",
          "text": [
            "how are you \n",
            "funny lol 😄\n",
            "i hate you 😡\n",
            "not feeling happy 😞\n",
            "i love python ❤️\n"
          ],
          "name": "stdout"
        }
      ]
    }
  ]
}